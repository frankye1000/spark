{
 "cells": [
  {
   "cell_type": "code",
   "execution_count": 1,
   "metadata": {
    "collapsed": true
   },
   "outputs": [],
   "source": [
    "from pymongo import MongoClient\n",
    "\n",
    "client = MongoClient(\"mongodb://10.120.37.108\")\n",
    "db = client[\"statistic_data\"]\n",
    "collection = db[\"five_force\"]"
   ]
  },
  {
   "cell_type": "code",
   "execution_count": 2,
   "metadata": {},
   "outputs": [
    {
     "data": {
      "text/plain": [
       "['191690867518507',\n",
       " '152472278103133',\n",
       " '600540963315152',\n",
       " '153819538009272',\n",
       " '449664581882455',\n",
       " '333058400178329',\n",
       " '10150145806225128',\n",
       " '360151611020961',\n",
       " '261813197541354',\n",
       " '852926604746233',\n",
       " '1380211668909443',\n",
       " '184799244894343',\n",
       " '109391162488374',\n",
       " '365320250345879',\n",
       " '232716627404',\n",
       " '46251501064',\n",
       " '136845026417486',\n",
       " '805460986214082',\n",
       " '122936517768637',\n",
       " '118250504903757']"
      ]
     },
     "execution_count": 2,
     "metadata": {},
     "output_type": "execute_result"
    }
   ],
   "source": [
    "post_collection = client[\"project\"][\"posts\"]\n",
    "plitician_ids = post_collection.find({}).distinct(\"politician_id\")\n",
    "plitician_ids"
   ]
  },
  {
   "cell_type": "code",
   "execution_count": 15,
   "metadata": {},
   "outputs": [],
   "source": [
    "fiveforce_data=[]\n",
    "for plitician_id in plitician_ids:\n",
    "    fiveforce_data.append(list(collection.find({\"politician_id\": plitician_id}, {\"_id\":0, \"politician_id\":0}).sort(\"axis\")))\n",
    "    "
   ]
  },
  {
   "cell_type": "code",
   "execution_count": 16,
   "metadata": {},
   "outputs": [
    {
     "data": {
      "text/plain": [
       "[[{'axis': 'ANGRY', 'value': 0.32},\n",
       "  {'axis': 'HAHA', 'value': 0.148},\n",
       "  {'axis': 'LOVE', 'value': 0.315},\n",
       "  {'axis': 'SAD', 'value': 0.067},\n",
       "  {'axis': 'WOW', 'value': 0.15}],\n",
       " [{'axis': 'ANGRY', 'value': 0.383},\n",
       "  {'axis': 'HAHA', 'value': 0.069},\n",
       "  {'axis': 'LOVE', 'value': 0.39},\n",
       "  {'axis': 'SAD', 'value': 0.085},\n",
       "  {'axis': 'WOW', 'value': 0.072}],\n",
       " [{'axis': 'ANGRY', 'value': 0.398},\n",
       "  {'axis': 'HAHA', 'value': 0.194},\n",
       "  {'axis': 'LOVE', 'value': 0.164},\n",
       "  {'axis': 'SAD', 'value': 0.102},\n",
       "  {'axis': 'WOW', 'value': 0.142}],\n",
       " [{'axis': 'ANGRY', 'value': 0.298},\n",
       "  {'axis': 'HAHA', 'value': 0.123},\n",
       "  {'axis': 'LOVE', 'value': 0.389},\n",
       "  {'axis': 'SAD', 'value': 0.089},\n",
       "  {'axis': 'WOW', 'value': 0.1}],\n",
       " [{'axis': 'ANGRY', 'value': 0.667},\n",
       "  {'axis': 'HAHA', 'value': 0.053},\n",
       "  {'axis': 'LOVE', 'value': 0.112},\n",
       "  {'axis': 'SAD', 'value': 0.056},\n",
       "  {'axis': 'WOW', 'value': 0.113}],\n",
       " [{'axis': 'ANGRY', 'value': 0.058},\n",
       "  {'axis': 'HAHA', 'value': 0.124},\n",
       "  {'axis': 'LOVE', 'value': 0.556},\n",
       "  {'axis': 'SAD', 'value': 0.151},\n",
       "  {'axis': 'WOW', 'value': 0.111}],\n",
       " [{'axis': 'ANGRY', 'value': 0.096},\n",
       "  {'axis': 'HAHA', 'value': 0.141},\n",
       "  {'axis': 'LOVE', 'value': 0.59},\n",
       "  {'axis': 'SAD', 'value': 0.108},\n",
       "  {'axis': 'WOW', 'value': 0.065}],\n",
       " [{'axis': 'ANGRY', 'value': 0.027},\n",
       "  {'axis': 'HAHA', 'value': 0.541},\n",
       "  {'axis': 'LOVE', 'value': 0.301},\n",
       "  {'axis': 'SAD', 'value': 0.058},\n",
       "  {'axis': 'WOW', 'value': 0.073}],\n",
       " [{'axis': 'ANGRY', 'value': 0.029},\n",
       "  {'axis': 'HAHA', 'value': 0.406},\n",
       "  {'axis': 'LOVE', 'value': 0.424},\n",
       "  {'axis': 'SAD', 'value': 0.085},\n",
       "  {'axis': 'WOW', 'value': 0.057}],\n",
       " [{'axis': 'ANGRY', 'value': 0.416},\n",
       "  {'axis': 'HAHA', 'value': 0.166},\n",
       "  {'axis': 'LOVE', 'value': 0.266},\n",
       "  {'axis': 'SAD', 'value': 0.063},\n",
       "  {'axis': 'WOW', 'value': 0.089}],\n",
       " [{'axis': 'ANGRY', 'value': 0.187},\n",
       "  {'axis': 'HAHA', 'value': 0.153},\n",
       "  {'axis': 'LOVE', 'value': 0.507},\n",
       "  {'axis': 'SAD', 'value': 0.041},\n",
       "  {'axis': 'WOW', 'value': 0.112}],\n",
       " [{'axis': 'ANGRY', 'value': 0.357},\n",
       "  {'axis': 'HAHA', 'value': 0.441},\n",
       "  {'axis': 'LOVE', 'value': 0.049},\n",
       "  {'axis': 'SAD', 'value': 0.074},\n",
       "  {'axis': 'WOW', 'value': 0.079}],\n",
       " [{'axis': 'ANGRY', 'value': 0.37},\n",
       "  {'axis': 'HAHA', 'value': 0.112},\n",
       "  {'axis': 'LOVE', 'value': 0.256},\n",
       "  {'axis': 'SAD', 'value': 0.073},\n",
       "  {'axis': 'WOW', 'value': 0.188}],\n",
       " [{'axis': 'ANGRY', 'value': 0.226},\n",
       "  {'axis': 'HAHA', 'value': 0.406},\n",
       "  {'axis': 'LOVE', 'value': 0.219},\n",
       "  {'axis': 'SAD', 'value': 0.072},\n",
       "  {'axis': 'WOW', 'value': 0.077}],\n",
       " [{'axis': 'ANGRY', 'value': 0.056},\n",
       "  {'axis': 'HAHA', 'value': 0.136},\n",
       "  {'axis': 'LOVE', 'value': 0.473},\n",
       "  {'axis': 'SAD', 'value': 0.204},\n",
       "  {'axis': 'WOW', 'value': 0.13}],\n",
       " [{'axis': 'ANGRY', 'value': 0.375},\n",
       "  {'axis': 'HAHA', 'value': 0.084},\n",
       "  {'axis': 'LOVE', 'value': 0.354},\n",
       "  {'axis': 'SAD', 'value': 0.148},\n",
       "  {'axis': 'WOW', 'value': 0.038}],\n",
       " [{'axis': 'ANGRY', 'value': 0.015},\n",
       "  {'axis': 'HAHA', 'value': 0.246},\n",
       "  {'axis': 'LOVE', 'value': 0.555},\n",
       "  {'axis': 'SAD', 'value': 0.098},\n",
       "  {'axis': 'WOW', 'value': 0.087}],\n",
       " [{'axis': 'ANGRY', 'value': 0.289},\n",
       "  {'axis': 'HAHA', 'value': 0.135},\n",
       "  {'axis': 'LOVE', 'value': 0.416},\n",
       "  {'axis': 'SAD', 'value': 0.07},\n",
       "  {'axis': 'WOW', 'value': 0.091}],\n",
       " [{'axis': 'ANGRY', 'value': 0.368},\n",
       "  {'axis': 'HAHA', 'value': 0.149},\n",
       "  {'axis': 'LOVE', 'value': 0.353},\n",
       "  {'axis': 'SAD', 'value': 0.046},\n",
       "  {'axis': 'WOW', 'value': 0.083}],\n",
       " [{'axis': 'ANGRY', 'value': 0.116},\n",
       "  {'axis': 'HAHA', 'value': 0.107},\n",
       "  {'axis': 'LOVE', 'value': 0.552},\n",
       "  {'axis': 'SAD', 'value': 0.185},\n",
       "  {'axis': 'WOW', 'value': 0.039}]]"
      ]
     },
     "execution_count": 16,
     "metadata": {},
     "output_type": "execute_result"
    }
   ],
   "source": [
    "fiveforce_data"
   ]
  },
  {
   "cell_type": "code",
   "execution_count": null,
   "metadata": {
    "collapsed": true
   },
   "outputs": [],
   "source": []
  }
 ],
 "metadata": {
  "kernelspec": {
   "display_name": "Python 3",
   "language": "python",
   "name": "python3"
  },
  "language_info": {
   "codemirror_mode": {
    "name": "ipython",
    "version": 3
   },
   "file_extension": ".py",
   "mimetype": "text/x-python",
   "name": "python",
   "nbconvert_exporter": "python",
   "pygments_lexer": "ipython3",
   "version": "3.6.1"
  }
 },
 "nbformat": 4,
 "nbformat_minor": 2
}
